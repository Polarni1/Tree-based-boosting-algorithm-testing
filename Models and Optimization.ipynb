{
 "cells": [
  {
   "cell_type": "code",
   "execution_count": 1,
   "metadata": {},
   "outputs": [],
   "source": [
    "from sklearn.model_selection import StratifiedKFold\n",
    "from sklearn.model_selection import train_test_split\n",
    "\n",
    "from sklearn.preprocessing   import OneHotEncoder\n",
    "\n",
    "from sklearn.metrics import roc_curve, roc_auc_score\n",
    "from bayes_opt import BayesianOptimization\n",
    "from catboost import CatBoostClassifier\n",
    "from lightgbm import LGBMClassifier\n",
    "from xgboost import XGBClassifier\n",
    "import matplotlib.pyplot as plt\n",
    "import lightgbm as lgb\n",
    "import xgboost as xgb\n",
    "import pandas as pd\n",
    "import numpy as np\n",
    "import IPython\n",
    "import timeit\n",
    "\n",
    "\n",
    "import warnings\n",
    "#warnings.filterwarnings(\"ignore\")"
   ]
  },
  {
   "cell_type": "markdown",
   "metadata": {},
   "source": [
    "## Model"
   ]
  },
  {
   "cell_type": "code",
   "execution_count": 2,
   "metadata": {},
   "outputs": [],
   "source": [
    "def report_1(model, data, y):\n",
    "    preds = model.predict(data)    \n",
    "    lr_auc = roc_auc_score(y, preds)\n",
    "    print('Binary: ROC AUC=%.3f' % (lr_auc))\n",
    "    return lr_auc\n",
    "    \n",
    "def report_2(model, data, y):\n",
    "    preds = model.predict_proba(data)[:, -1]  \n",
    "    lr_auc = roc_auc_score(y, preds)\n",
    "    print('Binary: ROC AUC=%.3f' % (lr_auc))\n",
    "    \n",
    "    return lr_auc"
   ]
  },
  {
   "cell_type": "code",
   "execution_count": 3,
   "metadata": {},
   "outputs": [],
   "source": [
    "def optimize_catboost(file, cat_feat):\n",
    "    df = pd.read_csv('./Data/'+file+'.csv')\n",
    "    for i in cat_feat:\n",
    "        df[i] = df[i].astype(np.int) \n",
    "    df.drop(df.filter(regex=\"Unname\"),axis=1, inplace=True)\n",
    "    X_train, X_test, y_train, y_test = train_test_split(df.drop('label', axis=1),\n",
    "                                                    df['label'], test_size=0.25)\n",
    "    \n",
    "    def cat_evaluate(max_depth, colsample_bytree, reg_lambda, learning_rate, iterations):   \n",
    "        model = CatBoostClassifier(learning_rate = learning_rate,\n",
    "                                   reg_lambda = reg_lambda,\n",
    "                                   max_depth = int(max_depth),\n",
    "                                   colsample_bylevel = colsample_bytree,\n",
    "                                   thread_count=4, task_type='CPU',\n",
    "                                   cat_features=cat_feat,\n",
    "                                   verbose=False,\n",
    "                                   iterations=int(iterations))\n",
    "\n",
    "        \n",
    "        \n",
    "        \n",
    "        model.fit(X_train, y_train, eval_set=[(X_test, y_test)],\n",
    "                  verbose_eval=1,\n",
    "                  early_stopping_rounds=2000,\n",
    "                  use_best_model=False,\n",
    "                  plot=False)\n",
    "        \n",
    "        preds = model.predict(X_test)\n",
    "        lr_auc = roc_auc_score(y_test, preds)\n",
    "\n",
    "        return lr_auc\n",
    "\n",
    "    cat_bo = BayesianOptimization(cat_evaluate, {'max_depth': (2, 14), \n",
    "                                                 'colsample_bytree': (0.01, 1),\n",
    "                                                 'reg_lambda': (0, 100),\n",
    "                                                 'learning_rate': (0.01, 1),\n",
    "                                                 'iterations':(16, 1000)})\n",
    "\n",
    "    cat_bo.maximize(init_points=8, n_iter=10, acq='ei')\n",
    "    \n",
    "    params = cat_bo.max['params']\n",
    "    params['max_depth'] = int(params['max_depth'])\n",
    "    \n",
    "    return params, X_train, X_test, y_train, y_test"
   ]
  },
  {
   "cell_type": "code",
   "execution_count": 4,
   "metadata": {},
   "outputs": [],
   "source": [
    "def train_cat(file, cat_feat):\n",
    "    start = timeit.default_timer()\n",
    "    print(\"Model Bayesian Optimization\")\n",
    "    params, X_train, X_test, y_train, y_test = optimize_catboost(file, cat_feat)\n",
    "\n",
    "    kfold = 10\n",
    "    skf = StratifiedKFold(n_splits=kfold, random_state=42)\n",
    "\n",
    "    y = y_train.values\n",
    "    X = X_train.values\n",
    "    \n",
    "    cat2=list(map(int, cat_feat))\n",
    "\n",
    "    preds = []\n",
    "    for fold_index, (train_index, test_index) in enumerate(skf.split(X, y)):\n",
    "        print('[Fold %d/%d]' % (fold_index + 1, kfold))\n",
    "        X_train, X_valid = X[train_index], X[test_index]\n",
    "        y_train, y_valid = y[train_index], y[test_index]\n",
    "        \n",
    "        model = CatBoostClassifier(learning_rate = params['learning_rate'],\n",
    "                                   reg_lambda = params['reg_lambda'],\n",
    "                                   max_depth = int(params['max_depth']),\n",
    "                                   colsample_bylevel = params['colsample_bytree'],\n",
    "                                   iterations=int(params['iterations']),\n",
    "                                   thread_count=4, task_type='CPU',\n",
    "                                   verbose=False,\n",
    "                                   cat_features=cat2)\n",
    "        \n",
    "        lt=len(X_train)\n",
    "        lv=len(X_valid)\n",
    "        \n",
    "        lstXT = list(X_train)\n",
    "        lstVT = list(X_valid)\n",
    "        lstTT = list(X_test)\n",
    "        \n",
    "        for j in range(lt):\n",
    "            for i in cat2:\n",
    "                lstXT2=list(lstXT[j-1])\n",
    "                lstXT[j-1]=lstXT2\n",
    "                lstXT[j-1][i]=lstXT[j-1][i].astype(str)\n",
    "                \n",
    "        print(type(lstVT))\n",
    "        for j in range(lv):\n",
    "            for i in cat2:\n",
    "                lstVT2=list(lstVT[j-1])\n",
    "                lstVT[j-1]=lstVT2\n",
    "                lstVT[j-1][i]=lstVT[j-1][i].astype(str)\n",
    "                \n",
    "        model.fit(lstXT, y_train, eval_set=(lstVT, y_valid),\n",
    "                  verbose_eval=False,\n",
    "                  early_stopping_rounds=2000,\n",
    "                  use_best_model=True,\n",
    "                  plot=False)\n",
    "    \n",
    "    \n",
    "    tt=len(X_test)\n",
    "    lstTT = X_test.values.tolist()\n",
    "\n",
    "    for k in range(tt):\n",
    "        for m in cat2:\n",
    "            lstTT[k-1][m]=str(lstTT[k-1][m])\n",
    "\n",
    "    print(\"Model Train and Test AUC Report\")\n",
    "    auc = report_1(model, lstTT, y_test)\n",
    "\n",
    "    stop = timeit.default_timer()\n",
    "    time = stop - start\n",
    "    print(f'Model Training Time: {time} s')  \n",
    "    print(X_valid)\n",
    "    return auc, time, params ###############################################################################################################################"
   ]
  },
  {
   "cell_type": "code",
   "execution_count": 5,
   "metadata": {},
   "outputs": [],
   "source": [
    "def optimize_lgb(file, cat_feat):\n",
    "    df = pd.read_csv('./Data/'+file+'.csv')\n",
    "    for i in cat_feat:\n",
    "        df[i] = df[i].astype(np.int)\n",
    "    df.drop(df.filter(regex=\"Unname\"),axis=1, inplace=True)\n",
    "    X_train, X_test, y_train, y_test = train_test_split(df.drop('label', axis=1),\n",
    "                                                    df['label'], test_size=0.25)\n",
    "    train_data = lgb.Dataset(data=X_train, label=y_train, free_raw_data=False)\n",
    "    \n",
    "    def lgb_evaluate(max_depth, feature_fraction, min_split_gain, learning_rate, num_iterations):  \n",
    "        params = {'metric': 'auc',\n",
    "                  'max_depth': int(max_depth),\n",
    "                  'feature_fraction': feature_fraction,\n",
    "                  'min_split_gain':min_split_gain,\n",
    "                  'learning_rate':learning_rate,\n",
    "                  'num_iterations':int(num_iterations),\n",
    "                  'boosting':'goss'}\n",
    "\n",
    "        cv_result = lgb.cv(params, train_data, nfold=10, stratified=True, verbose_eval =False, metrics=['auc'],\n",
    "                           categorical_feature=[cat_feat])\n",
    "        return max(cv_result['auc-mean'])\n",
    "\n",
    "    lgb_bo = BayesianOptimization(lgb_evaluate, {'max_depth': (2, 14), \n",
    "                                                 'feature_fraction': (0.01, 1),\n",
    "                                                 'min_split_gain': (0, 10),\n",
    "                                                 'learning_rate': (0.01, 1),\n",
    "                                                 'num_iterations': (16, 1000)})\n",
    "\n",
    "    lgb_bo.maximize(init_points=8, n_iter=10, acq='ei')\n",
    "    \n",
    "    params = lgb_bo.max['params']\n",
    "    params['max_depth'] = int(params['max_depth'])\n",
    "    \n",
    "    return params, X_train, X_test, y_train, y_test"
   ]
  },
  {
   "cell_type": "code",
   "execution_count": 6,
   "metadata": {},
   "outputs": [],
   "source": [
    "def train_lgb(file, cat_feat):\n",
    "    start = timeit.default_timer()\n",
    "    print(\"Model Bayesian Optimization\")\n",
    "    params, X_train, X_test, y_train, y_test = optimize_lgb(file, cat_feat)\n",
    "    \n",
    "    \n",
    "    cat2=list(map(int, cat_feat))\n",
    "    \n",
    "        \n",
    "    model = LGBMClassifier(\n",
    "        learning_rate = params['learning_rate'],\n",
    "        min_split_gain = params['min_split_gain'],\n",
    "        max_depth = int(params['max_depth']),\n",
    "        feature_fraction = params['feature_fraction'],\n",
    "        num_iterations = int(params['num_iterations']),\n",
    "        cat_features=cat2)\n",
    "        \n",
    "     \n",
    "        \n",
    "    model.fit(X_train, y_train , eval_metric= 'auc', \n",
    "              verbose= 1)\n",
    "        \n",
    "\n",
    "\n",
    "    print(\"Model Train and Test AUC Report\")\n",
    "    auc = report_1(model,X_test, y_test)\n",
    "    \n",
    "    stop = timeit.default_timer()\n",
    "    time = stop - start\n",
    "    print(f'Model Training Time: {time} s')  \n",
    "    \n",
    "    return auc, time, params ###############################################################################################################################"
   ]
  },
  {
   "cell_type": "code",
   "execution_count": 7,
   "metadata": {},
   "outputs": [],
   "source": [
    "def train(versions, dataset, model, cat_feat):\n",
    "    results = []\n",
    "    for i in range(1, (versions+1)):\n",
    "        temp = {}\n",
    "        \n",
    "        if model == 'xg':\n",
    "            auc, time, params = train_xgboost(dataset+'_'+str(i))       ###################################################\n",
    "        elif model == 'cat':\n",
    "            auc, time, params = train_cat(dataset+'_'+str(i), cat_feat) ###################################################\n",
    "        elif model == 'lgb':\n",
    "            auc, time, params = train_lgb(dataset+'_'+str(i), cat_feat) ###################################################\n",
    "        temp['AUC'] = auc\n",
    "        temp['Dataset'] = dataset+'_'+str(i)\n",
    "        temp['Time in sec'] = time\n",
    "\n",
    "###############################################################################################################################\n",
    "        for i in params.keys():\n",
    "            temp['params '+i] = params[i]\n",
    "###############################################################################################################################\n",
    "\n",
    "        results.append(temp)\n",
    "        \n",
    "\n",
    "        IPython.display.clear_output() \n",
    "    print(results)\n",
    "    results = pd.DataFrame(results)\n",
    "    print(results)\n",
    "    results['auc_mean'] = results['AUC'].mean()\n",
    "\n",
    "###############################################################################################################################\n",
    "    results['auc_std' ] = results['AUC']. std()\n",
    "    for i in list(results):\n",
    "        if 'params' in i:\n",
    "            results[i+' mean'] = results[i].mean()\n",
    "###############################################################################################################################\n",
    "\n",
    "    results['time_mean'] = results['Time in sec'].mean()\n",
    "    results.to_csv('./Results/'+dataset+'_'+model+'R1test.csv')"
   ]
  },
  {
   "cell_type": "markdown",
   "metadata": {},
   "source": [
    "## A1_100 Train"
   ]
  },
  {
   "cell_type": "code",
   "execution_count": 8,
   "metadata": {},
   "outputs": [],
   "source": [
    "#train(20, 'A1_100', 'xg',[])"
   ]
  },
  {
   "cell_type": "code",
   "execution_count": 9,
   "metadata": {},
   "outputs": [],
   "source": [
    "#train(20, 'A1_100', 'cat', [])"
   ]
  },
  {
   "cell_type": "code",
   "execution_count": 10,
   "metadata": {},
   "outputs": [],
   "source": [
    "#train(20, 'A1_100', 'lgb', [])"
   ]
  },
  {
   "cell_type": "markdown",
   "metadata": {},
   "source": [
    "## A1_1000 Train"
   ]
  },
  {
   "cell_type": "code",
   "execution_count": 11,
   "metadata": {},
   "outputs": [],
   "source": [
    "#train(20, 'A1_1000', 'xg',[])"
   ]
  },
  {
   "cell_type": "code",
   "execution_count": 12,
   "metadata": {},
   "outputs": [],
   "source": [
    "#train(20, 'A1_1000', 'cat', [])"
   ]
  },
  {
   "cell_type": "code",
   "execution_count": 13,
   "metadata": {},
   "outputs": [],
   "source": [
    "#train(20, 'A1_1000', 'lgb', [])"
   ]
  },
  {
   "cell_type": "markdown",
   "metadata": {},
   "source": [
    "## A1_10000 Train"
   ]
  },
  {
   "cell_type": "code",
   "execution_count": 14,
   "metadata": {},
   "outputs": [],
   "source": [
    "#train(20, 'A1_10000', 'xg',[])"
   ]
  },
  {
   "cell_type": "code",
   "execution_count": 15,
   "metadata": {},
   "outputs": [],
   "source": [
    "#train(20, 'A1_10000', 'cat', [])"
   ]
  },
  {
   "cell_type": "code",
   "execution_count": 16,
   "metadata": {},
   "outputs": [],
   "source": [
    "#train(20, 'A1_10000', 'lgb', [])"
   ]
  },
  {
   "cell_type": "markdown",
   "metadata": {},
   "source": [
    "## A2_100 Train"
   ]
  },
  {
   "cell_type": "code",
   "execution_count": 17,
   "metadata": {},
   "outputs": [],
   "source": [
    "#train(20, 'A2_100', 'xg',[])"
   ]
  },
  {
   "cell_type": "code",
   "execution_count": 18,
   "metadata": {},
   "outputs": [],
   "source": [
    "#train(20, 'A2_100', 'cat',[])"
   ]
  },
  {
   "cell_type": "code",
   "execution_count": 19,
   "metadata": {},
   "outputs": [],
   "source": [
    "#train(20, 'A2_100', 'lgb',[])"
   ]
  },
  {
   "cell_type": "markdown",
   "metadata": {},
   "source": [
    "## A2_1000 Train"
   ]
  },
  {
   "cell_type": "code",
   "execution_count": 20,
   "metadata": {},
   "outputs": [],
   "source": [
    "#train(20, 'A2_1000', 'xg',[])"
   ]
  },
  {
   "cell_type": "code",
   "execution_count": 21,
   "metadata": {},
   "outputs": [],
   "source": [
    "#train(20, 'A2_1000', 'cat',[])"
   ]
  },
  {
   "cell_type": "code",
   "execution_count": 22,
   "metadata": {},
   "outputs": [],
   "source": [
    "#train(20, 'A2_1000', 'lgb',[])"
   ]
  },
  {
   "cell_type": "markdown",
   "metadata": {},
   "source": [
    "## A2_10000 Train"
   ]
  },
  {
   "cell_type": "code",
   "execution_count": 23,
   "metadata": {},
   "outputs": [],
   "source": [
    "#train(20, 'A2_10000', 'xg',[])"
   ]
  },
  {
   "cell_type": "code",
   "execution_count": 24,
   "metadata": {},
   "outputs": [],
   "source": [
    "#train(3, 'A2_10000', 'cat',[])"
   ]
  },
  {
   "cell_type": "code",
   "execution_count": 25,
   "metadata": {},
   "outputs": [],
   "source": [
    "#train(3, 'A2_10000', 'lgb',[])"
   ]
  },
  {
   "cell_type": "markdown",
   "metadata": {},
   "source": [
    "## A3_100 Train"
   ]
  },
  {
   "cell_type": "code",
   "execution_count": 26,
   "metadata": {},
   "outputs": [],
   "source": [
    "#train(3, 'A3_100', 'xg',[])"
   ]
  },
  {
   "cell_type": "code",
   "execution_count": 27,
   "metadata": {},
   "outputs": [],
   "source": [
    "#train(3, 'A3_100', 'cat',[])"
   ]
  },
  {
   "cell_type": "code",
   "execution_count": 28,
   "metadata": {},
   "outputs": [],
   "source": [
    "#train(3, 'A3_100', 'lgb',[])"
   ]
  },
  {
   "cell_type": "markdown",
   "metadata": {},
   "source": [
    "## A3_1000 Train"
   ]
  },
  {
   "cell_type": "code",
   "execution_count": 29,
   "metadata": {},
   "outputs": [],
   "source": [
    "#train(3, 'A3_1000', 'xg',[])"
   ]
  },
  {
   "cell_type": "code",
   "execution_count": 30,
   "metadata": {},
   "outputs": [],
   "source": [
    "#train(3, 'A3_1000', 'cat',[])"
   ]
  },
  {
   "cell_type": "code",
   "execution_count": 31,
   "metadata": {},
   "outputs": [],
   "source": [
    "#train(3, 'A3_1000', 'lgb',[])"
   ]
  },
  {
   "cell_type": "markdown",
   "metadata": {},
   "source": [
    "## A3_10000 Train"
   ]
  },
  {
   "cell_type": "code",
   "execution_count": 32,
   "metadata": {},
   "outputs": [],
   "source": [
    "#train(3, 'A3_10000', 'xg',[])"
   ]
  },
  {
   "cell_type": "code",
   "execution_count": 33,
   "metadata": {},
   "outputs": [],
   "source": [
    "#train(3, 'A3_10000', 'cat',[])"
   ]
  },
  {
   "cell_type": "code",
   "execution_count": 34,
   "metadata": {},
   "outputs": [],
   "source": [
    "#train(3, 'A3_10000', 'lgb',[])"
   ]
  },
  {
   "cell_type": "markdown",
   "metadata": {},
   "source": [
    "## B1_100 Train"
   ]
  },
  {
   "cell_type": "code",
   "execution_count": 35,
   "metadata": {},
   "outputs": [],
   "source": [
    "#train(20, 'B1_100', 'xg',['6', '7'])"
   ]
  },
  {
   "cell_type": "code",
   "execution_count": 36,
   "metadata": {},
   "outputs": [],
   "source": [
    "#train(20, 'B1_100', 'cat',['6', '7'])"
   ]
  },
  {
   "cell_type": "code",
   "execution_count": 37,
   "metadata": {},
   "outputs": [],
   "source": [
    "#train(20, 'B1_100', 'lgb',['6', '7'])"
   ]
  },
  {
   "cell_type": "markdown",
   "metadata": {},
   "source": [
    "## B1_1000 Train"
   ]
  },
  {
   "cell_type": "code",
   "execution_count": 38,
   "metadata": {},
   "outputs": [],
   "source": [
    "#train(20, 'B1_1000', 'xg',['6', '7'])"
   ]
  },
  {
   "cell_type": "code",
   "execution_count": 39,
   "metadata": {},
   "outputs": [],
   "source": [
    "#train(20, 'B1_1000', 'cat',['6', '7'])"
   ]
  },
  {
   "cell_type": "code",
   "execution_count": 40,
   "metadata": {},
   "outputs": [],
   "source": [
    "#train(20, 'B1_1000', 'lgb',['6', '7'])"
   ]
  },
  {
   "cell_type": "markdown",
   "metadata": {},
   "source": [
    "## B1_10000 Train"
   ]
  },
  {
   "cell_type": "code",
   "execution_count": 41,
   "metadata": {},
   "outputs": [],
   "source": [
    "#train(20, 'B1_10000', 'xg',['6', '7'])"
   ]
  },
  {
   "cell_type": "code",
   "execution_count": 42,
   "metadata": {},
   "outputs": [],
   "source": [
    "#train(20, 'B1_10000', 'cat',['6', '7'])"
   ]
  },
  {
   "cell_type": "code",
   "execution_count": 43,
   "metadata": {},
   "outputs": [],
   "source": [
    "#train(20, 'B1_10000', 'lgb',['6', '7'])"
   ]
  },
  {
   "cell_type": "markdown",
   "metadata": {},
   "source": [
    "## B1S_100"
   ]
  },
  {
   "cell_type": "code",
   "execution_count": 44,
   "metadata": {},
   "outputs": [],
   "source": [
    "#train(20, 'B1S_100', 'xg',['6', '7'])"
   ]
  },
  {
   "cell_type": "code",
   "execution_count": 45,
   "metadata": {
    "scrolled": true
   },
   "outputs": [],
   "source": [
    "#train(20, 'B1S_100', 'cat',['6', '7'])"
   ]
  },
  {
   "cell_type": "code",
   "execution_count": 46,
   "metadata": {},
   "outputs": [],
   "source": [
    "#train(20, 'B1S_100', 'lgb',['6', '7'])"
   ]
  },
  {
   "cell_type": "markdown",
   "metadata": {},
   "source": [
    "## B1S_1000"
   ]
  },
  {
   "cell_type": "code",
   "execution_count": 47,
   "metadata": {},
   "outputs": [],
   "source": [
    "#train(20, 'B1S_1000', 'xg',['6', '7'])"
   ]
  },
  {
   "cell_type": "code",
   "execution_count": 48,
   "metadata": {},
   "outputs": [],
   "source": [
    "#train(20, 'B1S_1000', 'cat',['6', '7'])"
   ]
  },
  {
   "cell_type": "code",
   "execution_count": 49,
   "metadata": {},
   "outputs": [],
   "source": [
    "#train(20, 'B1S_1000', 'lgb',['6', '7'])"
   ]
  },
  {
   "cell_type": "markdown",
   "metadata": {},
   "source": [
    "## B1S_10000"
   ]
  },
  {
   "cell_type": "code",
   "execution_count": 50,
   "metadata": {},
   "outputs": [],
   "source": [
    "#train(20, 'B1S_10000', 'xg',['6', '7'])"
   ]
  },
  {
   "cell_type": "code",
   "execution_count": 51,
   "metadata": {},
   "outputs": [],
   "source": [
    "#train(20, 'B1S_10000', 'cat',['6', '7'])"
   ]
  },
  {
   "cell_type": "code",
   "execution_count": 52,
   "metadata": {},
   "outputs": [],
   "source": [
    "#train(20, 'B1S_10000', 'lgb',['6', '7'])"
   ]
  },
  {
   "cell_type": "markdown",
   "metadata": {},
   "source": [
    "## B2_100 Train"
   ]
  },
  {
   "cell_type": "code",
   "execution_count": 53,
   "metadata": {},
   "outputs": [],
   "source": [
    "#train(3, 'B2_100', 'xg',['6', '7'])"
   ]
  },
  {
   "cell_type": "code",
   "execution_count": 54,
   "metadata": {},
   "outputs": [],
   "source": [
    "#train(3, 'B2_100', 'cat',['6', '7'])"
   ]
  },
  {
   "cell_type": "code",
   "execution_count": 55,
   "metadata": {},
   "outputs": [],
   "source": [
    "#train(3, 'B2_100', 'lgb',['6', '7'])"
   ]
  },
  {
   "cell_type": "markdown",
   "metadata": {},
   "source": [
    "## B2_1000 Train"
   ]
  },
  {
   "cell_type": "code",
   "execution_count": 56,
   "metadata": {},
   "outputs": [],
   "source": [
    "#train(3, 'B2_1000', 'xg',['6', '7'])"
   ]
  },
  {
   "cell_type": "code",
   "execution_count": 57,
   "metadata": {},
   "outputs": [],
   "source": [
    "#train(3, 'B2_1000', 'cat',['6', '7'])"
   ]
  },
  {
   "cell_type": "code",
   "execution_count": 58,
   "metadata": {},
   "outputs": [],
   "source": [
    "#train(3, 'B2_1000', 'lgb',['6', '7'])"
   ]
  },
  {
   "cell_type": "markdown",
   "metadata": {},
   "source": [
    "## B2_10000 Train"
   ]
  },
  {
   "cell_type": "code",
   "execution_count": 59,
   "metadata": {},
   "outputs": [],
   "source": [
    "#train(3, 'B2_10000', 'xg',['6', '7'])"
   ]
  },
  {
   "cell_type": "code",
   "execution_count": 60,
   "metadata": {},
   "outputs": [],
   "source": [
    "#train(3, 'B2_10000', 'cat',['6', '7'])"
   ]
  },
  {
   "cell_type": "code",
   "execution_count": 61,
   "metadata": {},
   "outputs": [],
   "source": [
    "#train(3, 'B2_10000', 'lgb',['6', '7'])"
   ]
  },
  {
   "cell_type": "markdown",
   "metadata": {},
   "source": [
    "## B3_100 Train"
   ]
  },
  {
   "cell_type": "code",
   "execution_count": 62,
   "metadata": {},
   "outputs": [],
   "source": [
    "#train(3, 'B3_100', 'xg',['6', '7'])"
   ]
  },
  {
   "cell_type": "code",
   "execution_count": 63,
   "metadata": {},
   "outputs": [],
   "source": [
    "#train(3, 'B3_100', 'cat',['6', '7'])"
   ]
  },
  {
   "cell_type": "code",
   "execution_count": 64,
   "metadata": {},
   "outputs": [],
   "source": [
    "#train(3, 'B3_100', 'lgb',['6', '7'])"
   ]
  },
  {
   "cell_type": "markdown",
   "metadata": {},
   "source": [
    "## B3_1000 Train"
   ]
  },
  {
   "cell_type": "code",
   "execution_count": 65,
   "metadata": {},
   "outputs": [],
   "source": [
    "#train(3, 'B3_1000', 'xg',['6', '7'])"
   ]
  },
  {
   "cell_type": "code",
   "execution_count": 66,
   "metadata": {},
   "outputs": [],
   "source": [
    "#train(3, 'B3_1000', 'cat',['6', '7'])"
   ]
  },
  {
   "cell_type": "code",
   "execution_count": 67,
   "metadata": {},
   "outputs": [],
   "source": [
    "#train(3, 'B3_1000', 'lgb',['6', '7'])"
   ]
  },
  {
   "cell_type": "markdown",
   "metadata": {},
   "source": [
    "## B3_10000 Train"
   ]
  },
  {
   "cell_type": "code",
   "execution_count": 68,
   "metadata": {},
   "outputs": [],
   "source": [
    "#train(3, 'B3_10000', 'xg',['6', '7'])"
   ]
  },
  {
   "cell_type": "code",
   "execution_count": 69,
   "metadata": {},
   "outputs": [],
   "source": [
    "#train(3, 'B3_10000', 'cat',['6', '7'])"
   ]
  },
  {
   "cell_type": "code",
   "execution_count": 70,
   "metadata": {},
   "outputs": [],
   "source": [
    "#train(3, 'B3_10000', 'lgb',['6', '7'])"
   ]
  },
  {
   "cell_type": "markdown",
   "metadata": {},
   "source": [
    "## C1_100 train"
   ]
  },
  {
   "cell_type": "code",
   "execution_count": 71,
   "metadata": {},
   "outputs": [],
   "source": [
    "#train(20, 'C1_100', 'xg',['4', '5', '6', '7'])"
   ]
  },
  {
   "cell_type": "code",
   "execution_count": 72,
   "metadata": {},
   "outputs": [],
   "source": [
    "#train(20, 'C1_100', 'cat',['4', '5', '6', '7'])"
   ]
  },
  {
   "cell_type": "code",
   "execution_count": 73,
   "metadata": {},
   "outputs": [],
   "source": [
    "#train(20, 'C1_100', 'lgb',['4', '5', '6', '7'])"
   ]
  },
  {
   "cell_type": "markdown",
   "metadata": {},
   "source": [
    "## C1_1000 Train"
   ]
  },
  {
   "cell_type": "code",
   "execution_count": 74,
   "metadata": {},
   "outputs": [],
   "source": [
    "#train(20, 'C1_1000', 'xg',['4', '5', '6', '7'])"
   ]
  },
  {
   "cell_type": "code",
   "execution_count": 75,
   "metadata": {},
   "outputs": [],
   "source": [
    "#train(20, 'C1_1000', 'cat',['4', '5', '6', '7'])"
   ]
  },
  {
   "cell_type": "code",
   "execution_count": 76,
   "metadata": {},
   "outputs": [],
   "source": [
    "#train(20, 'C1_1000', 'lgb',['4', '5', '6', '7'])"
   ]
  },
  {
   "cell_type": "markdown",
   "metadata": {},
   "source": [
    "## C1_10000 Train"
   ]
  },
  {
   "cell_type": "code",
   "execution_count": 77,
   "metadata": {},
   "outputs": [],
   "source": [
    "#train(20, 'C1_10000', 'xg',['4', '5', '6', '7'])"
   ]
  },
  {
   "cell_type": "code",
   "execution_count": 78,
   "metadata": {},
   "outputs": [],
   "source": [
    "#train(20, 'C1_10000', 'cat',['4', '5', '6', '7'])"
   ]
  },
  {
   "cell_type": "code",
   "execution_count": 79,
   "metadata": {},
   "outputs": [],
   "source": [
    "#train(20, 'C1_10000', 'lgb',['4', '5', '6', '7'])"
   ]
  },
  {
   "cell_type": "markdown",
   "metadata": {},
   "source": [
    "## C1S_100"
   ]
  },
  {
   "cell_type": "code",
   "execution_count": 80,
   "metadata": {},
   "outputs": [],
   "source": [
    "#train(20, 'C1S_100', 'xg',['4', '5', '6', '7'])"
   ]
  },
  {
   "cell_type": "code",
   "execution_count": 81,
   "metadata": {},
   "outputs": [],
   "source": [
    "#train(20, 'C1S_100', 'cat',['4', '5', '6', '7'])"
   ]
  },
  {
   "cell_type": "code",
   "execution_count": 82,
   "metadata": {},
   "outputs": [],
   "source": [
    "#train(20, 'C1S_100', 'lgb',['4', '5', '6', '7'])"
   ]
  },
  {
   "cell_type": "markdown",
   "metadata": {},
   "source": [
    "## C1S_1000"
   ]
  },
  {
   "cell_type": "code",
   "execution_count": 83,
   "metadata": {},
   "outputs": [],
   "source": [
    "#train(20, 'C1S_1000', 'xg',['4', '5', '6', '7'])"
   ]
  },
  {
   "cell_type": "code",
   "execution_count": 84,
   "metadata": {},
   "outputs": [],
   "source": [
    "#train(20, 'C1S_1000', 'cat',['4', '5', '6', '7'])"
   ]
  },
  {
   "cell_type": "code",
   "execution_count": 85,
   "metadata": {},
   "outputs": [],
   "source": [
    "#train(20, 'C1S_1000', 'lgb',['4', '5', '6', '7'])"
   ]
  },
  {
   "cell_type": "markdown",
   "metadata": {},
   "source": [
    "## C1S_10000"
   ]
  },
  {
   "cell_type": "code",
   "execution_count": 86,
   "metadata": {},
   "outputs": [],
   "source": [
    "#train(20, 'C1S_10000', 'xg',['4', '5', '6', '7'])"
   ]
  },
  {
   "cell_type": "code",
   "execution_count": 87,
   "metadata": {},
   "outputs": [],
   "source": [
    "#train(20, 'C1S_10000', 'cat',['4', '5', '6', '7'])"
   ]
  },
  {
   "cell_type": "code",
   "execution_count": 88,
   "metadata": {},
   "outputs": [],
   "source": [
    "#train(20, 'C1S_10000', 'lgb',['4', '5', '6', '7'])"
   ]
  },
  {
   "cell_type": "markdown",
   "metadata": {},
   "source": [
    "## C2_100 Train\n"
   ]
  },
  {
   "cell_type": "code",
   "execution_count": 89,
   "metadata": {},
   "outputs": [],
   "source": [
    "#train(3, 'C2_100', 'xg',['4', '5', '6', '7'])"
   ]
  },
  {
   "cell_type": "code",
   "execution_count": 90,
   "metadata": {},
   "outputs": [],
   "source": [
    "#train(3, 'C2_100', 'cat',['4', '5', '6', '7'])"
   ]
  },
  {
   "cell_type": "code",
   "execution_count": 91,
   "metadata": {},
   "outputs": [],
   "source": [
    "#train(3, 'C2_100', 'lgb',['4', '5', '6', '7'])"
   ]
  },
  {
   "cell_type": "markdown",
   "metadata": {},
   "source": [
    "## C2_1000 Train"
   ]
  },
  {
   "cell_type": "code",
   "execution_count": 92,
   "metadata": {},
   "outputs": [],
   "source": [
    "#train(3, 'C2_1000', 'xg',['4', '5', '6', '7'])"
   ]
  },
  {
   "cell_type": "code",
   "execution_count": 93,
   "metadata": {},
   "outputs": [],
   "source": [
    "#train(3, 'C2_1000', 'cat',['4', '5', '6', '7'])"
   ]
  },
  {
   "cell_type": "code",
   "execution_count": 94,
   "metadata": {},
   "outputs": [],
   "source": [
    "#train(3, 'C2_1000', 'lgb',['4', '5', '6', '7'])"
   ]
  },
  {
   "cell_type": "markdown",
   "metadata": {},
   "source": [
    "## C2_10000 Train"
   ]
  },
  {
   "cell_type": "code",
   "execution_count": 95,
   "metadata": {},
   "outputs": [],
   "source": [
    "#train(3, 'C2_10000', 'xg',['4', '5', '6', '7'])"
   ]
  },
  {
   "cell_type": "code",
   "execution_count": 96,
   "metadata": {},
   "outputs": [],
   "source": [
    "#train(3, 'C2_10000', 'cat',['4', '5', '6', '7'])"
   ]
  },
  {
   "cell_type": "code",
   "execution_count": 97,
   "metadata": {},
   "outputs": [],
   "source": [
    "#train(3, 'C2_10000', 'lgb',['4', '5', '6', '7'])"
   ]
  },
  {
   "cell_type": "markdown",
   "metadata": {},
   "source": [
    "## C3_100 Train"
   ]
  },
  {
   "cell_type": "code",
   "execution_count": 98,
   "metadata": {},
   "outputs": [],
   "source": [
    "#train(3, 'C3_100', 'xg',['4', '5', '6', '7'])"
   ]
  },
  {
   "cell_type": "code",
   "execution_count": 99,
   "metadata": {},
   "outputs": [],
   "source": [
    "#train(3, 'C3_100', 'cat',['4', '5', '6', '7'])"
   ]
  },
  {
   "cell_type": "code",
   "execution_count": 100,
   "metadata": {},
   "outputs": [],
   "source": [
    "#train(3, 'C3_100', 'lgb',['4', '5', '6', '7'])"
   ]
  },
  {
   "cell_type": "markdown",
   "metadata": {},
   "source": [
    "## C3_1000 Train"
   ]
  },
  {
   "cell_type": "code",
   "execution_count": 101,
   "metadata": {},
   "outputs": [],
   "source": [
    "#train(3, 'C3_1000', 'xg',['4', '5', '6', '7'])"
   ]
  },
  {
   "cell_type": "code",
   "execution_count": 102,
   "metadata": {},
   "outputs": [],
   "source": [
    "#train(3, 'C3_1000', 'cat',['4', '5', '6', '7'])"
   ]
  },
  {
   "cell_type": "code",
   "execution_count": 103,
   "metadata": {},
   "outputs": [],
   "source": [
    "#train(3, 'C3_1000', 'lgb',['4', '5', '6', '7'])"
   ]
  },
  {
   "cell_type": "markdown",
   "metadata": {},
   "source": [
    "## C3_10000 Train"
   ]
  },
  {
   "cell_type": "code",
   "execution_count": 104,
   "metadata": {},
   "outputs": [],
   "source": [
    "#train(3, 'C3_10000', 'xg',['4', '5', '6', '7'])"
   ]
  },
  {
   "cell_type": "code",
   "execution_count": 105,
   "metadata": {},
   "outputs": [],
   "source": [
    "#train(3, 'C3_10000', 'cat',['4', '5', '6', '7'])"
   ]
  },
  {
   "cell_type": "code",
   "execution_count": 106,
   "metadata": {},
   "outputs": [],
   "source": [
    "#train(3, 'C3_10000', 'lgb',['4', '5', '6', '7'])"
   ]
  },
  {
   "cell_type": "code",
   "execution_count": null,
   "metadata": {},
   "outputs": [],
   "source": []
  }
 ],
 "metadata": {
  "kernelspec": {
   "display_name": "Python 3",
   "language": "python",
   "name": "python3"
  },
  "language_info": {
   "codemirror_mode": {
    "name": "ipython",
    "version": 3
   },
   "file_extension": ".py",
   "mimetype": "text/x-python",
   "name": "python",
   "nbconvert_exporter": "python",
   "pygments_lexer": "ipython3",
   "version": "3.8.5"
  }
 },
 "nbformat": 4,
 "nbformat_minor": 4
}
